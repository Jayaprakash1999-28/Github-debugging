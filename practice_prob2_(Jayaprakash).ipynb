{
  "nbformat": 4,
  "nbformat_minor": 0,
  "metadata": {
    "colab": {
      "provenance": [],
      "authorship_tag": "ABX9TyOIHVk0BzV3d5bEuG0glTja",
      "include_colab_link": true
    },
    "kernelspec": {
      "name": "python3",
      "display_name": "Python 3"
    },
    "language_info": {
      "name": "python"
    }
  },
  "cells": [
    {
      "cell_type": "markdown",
      "metadata": {
        "id": "view-in-github",
        "colab_type": "text"
      },
      "source": [
        "<a href=\"https://colab.research.google.com/github/Jayaprakash1999-28/Github-debugging/blob/main/practice_prob2_(Jayaprakash).ipynb\" target=\"_parent\"><img src=\"https://colab.research.google.com/assets/colab-badge.svg\" alt=\"Open In Colab\"/></a>"
      ]
    },
    {
      "cell_type": "code",
      "execution_count": 31,
      "metadata": {
        "colab": {
          "base_uri": "https://localhost:8080/"
        },
        "id": "B_YNLDgEEysq",
        "outputId": "269e7492-90b2-4084-fc62-fe74a739599d"
      },
      "outputs": [
        {
          "output_type": "stream",
          "name": "stdout",
          "text": [
            "Enter a string: assembly\n",
            "'a' : 1 \n",
            "'s' : 2 \n",
            "'e' : 1 \n",
            "'m' : 1 \n",
            "'b' : 1 \n",
            "'l' : 1 \n",
            "'y' : 1 \n"
          ]
        }
      ],
      "source": [
        "def count_characters(string):\n",
        "    char_count = {}\n",
        "    for char in string:\n",
        "        char_count[char] = char_count.get(char, 0) + 1\n",
        "    for char, count in char_count.items():\n",
        "        print(f\"'{char}' : {count} \")\n",
        "user_input = input(\"Enter a string: \")\n",
        "count_characters(user_input)"
      ]
    },
    {
      "cell_type": "code",
      "source": [
        "def max_of_three_numbers(a, b, c):\n",
        "    return max(a, b, c)\n"
      ],
      "metadata": {
        "id": "I1_5ZosGG-pO"
      },
      "execution_count": 7,
      "outputs": []
    },
    {
      "cell_type": "code",
      "source": [
        "print(max_of_three_numbers(1,2,3))"
      ],
      "metadata": {
        "colab": {
          "base_uri": "https://localhost:8080/"
        },
        "id": "r68CK0x0HFqW",
        "outputId": "100338ef-6fa2-4525-ce26-61394b8da3b6"
      },
      "execution_count": 9,
      "outputs": [
        {
          "output_type": "stream",
          "name": "stdout",
          "text": [
            "3\n"
          ]
        }
      ]
    },
    {
      "cell_type": "code",
      "source": [
        "def exponent(base, exp):\n",
        "    j = 1\n",
        "    for i in range(exp):\n",
        "        j *= base\n",
        "    return j\n"
      ],
      "metadata": {
        "id": "kN-xNfcwHWKF"
      },
      "execution_count": 10,
      "outputs": []
    },
    {
      "cell_type": "code",
      "source": [
        "print(exponent(2,3))"
      ],
      "metadata": {
        "colab": {
          "base_uri": "https://localhost:8080/"
        },
        "id": "7lBPqHQKHbLd",
        "outputId": "a1f49f8c-b772-49fc-956c-7a6cedbc5d7a"
      },
      "execution_count": 11,
      "outputs": [
        {
          "output_type": "stream",
          "name": "stdout",
          "text": [
            "8\n"
          ]
        }
      ]
    },
    {
      "cell_type": "code",
      "source": [
        "def sum_of_cubes(n):\n",
        "    sum_cubes = 0\n",
        "    for i in range(1, n):\n",
        "        sum_cubes += i ** 3\n",
        "    return sum_cubes"
      ],
      "metadata": {
        "id": "A5gP0PeuHuE9"
      },
      "execution_count": 12,
      "outputs": []
    },
    {
      "cell_type": "code",
      "source": [
        "print(sum_of_cubes(4))"
      ],
      "metadata": {
        "colab": {
          "base_uri": "https://localhost:8080/"
        },
        "id": "Cvm6y6ddHw0s",
        "outputId": "4184bb37-d37d-42df-9481-f0fc8eaa6e61"
      },
      "execution_count": 13,
      "outputs": [
        {
          "output_type": "stream",
          "name": "stdout",
          "text": [
            "36\n"
          ]
        }
      ]
    },
    {
      "cell_type": "code",
      "source": [
        "for i in range(1, 11):\n",
        "    if i % 2 == 0 and i % 5 == 0:\n",
        "        print(\"FizzBuzz\")\n",
        "    elif i % 2 == 0:\n",
        "        print(\"Fizz\")\n",
        "    elif i % 5 == 0:\n",
        "        print(\"Buzz\")\n",
        "    else:\n",
        "        print(i)"
      ],
      "metadata": {
        "colab": {
          "base_uri": "https://localhost:8080/"
        },
        "id": "6miSCXrNH4pN",
        "outputId": "2c908173-4ed0-47f8-fa8b-887246aab45d"
      },
      "execution_count": 14,
      "outputs": [
        {
          "output_type": "stream",
          "name": "stdout",
          "text": [
            "1\n",
            "Fizz\n",
            "3\n",
            "Fizz\n",
            "Buzz\n",
            "Fizz\n",
            "7\n",
            "Fizz\n",
            "9\n",
            "FizzBuzz\n"
          ]
        }
      ]
    },
    {
      "cell_type": "code",
      "source": [],
      "metadata": {
        "id": "gAwEOCrGIAb9"
      },
      "execution_count": null,
      "outputs": []
    },
    {
      "cell_type": "code",
      "source": [
        "n= int(input(\"Enter the number of elements in the list: \"))\n",
        "print(\"Enter\", n, \"numbers:\")\n",
        "\n",
        "num_list = []\n",
        "for _ in range(n):\n",
        "    num = float(input())\n",
        "    num_list.append(num)\n",
        "\n",
        "frequency = {}\n",
        "for num in num_list:\n",
        "    if num in frequency:\n",
        "        frequency[num] += 1\n",
        "    else:\n",
        "        frequency[num] = 1\n",
        "\n",
        "max_freq = max(frequency.values())\n",
        "most_frequent_items = [key for key, value in frequency.items() if value == max_freq]\n",
        "print(\"Most frequent item is:\", most_frequent_items)"
      ],
      "metadata": {
        "colab": {
          "base_uri": "https://localhost:8080/"
        },
        "id": "z31xYJPdF_BI",
        "outputId": "cb6518ed-1298-49b3-9d02-6fbea3db90ad"
      },
      "execution_count": 6,
      "outputs": [
        {
          "output_type": "stream",
          "name": "stdout",
          "text": [
            "Enter the number of elements in the list: 3\n",
            "Enter 3 numbers:\n",
            "2\n",
            "2\n",
            "3\n",
            "Most frequent item(s): [2.0]\n"
          ]
        }
      ]
    },
    {
      "cell_type": "code",
      "source": [
        "n= int(input('Enter the number of elements in the list:  '))\n",
        "print(\"Enter\", n, \"numbers:\")\n",
        "numbers_list = []\n",
        "for _ in range(n):\n",
        "    num = float(input())\n",
        "    numbers_list.append(num)\n",
        "sum_of_squares = 0\n",
        "for num in numbers_list:\n",
        "    sum_of_squares += num ** 2\n",
        "print(\"Sum of squares:\",sum_of_squares)\n"
      ],
      "metadata": {
        "colab": {
          "base_uri": "https://localhost:8080/"
        },
        "id": "-SHv-iZuIETH",
        "outputId": "6c35b042-e5ed-4d7e-d12b-bee6879b93f1"
      },
      "execution_count": 18,
      "outputs": [
        {
          "output_type": "stream",
          "name": "stdout",
          "text": [
            "Enter the number of elements in the list:  4\n",
            "Enter 4 numbers:\n",
            "2\n",
            "1\n",
            "3\n",
            "1\n",
            "Sum of squares: 15.0\n"
          ]
        }
      ]
    },
    {
      "cell_type": "code",
      "source": [
        "for num in range(1, 16):\n",
        "    if num % 2 == 0:\n",
        "        print(num, \"- even\")\n",
        "    else:\n",
        "        print(num, \"- odd\")"
      ],
      "metadata": {
        "colab": {
          "base_uri": "https://localhost:8080/"
        },
        "id": "GG0XqARBI34x",
        "outputId": "48df326c-eedc-44e8-b9a9-0459adf44d45"
      },
      "execution_count": 19,
      "outputs": [
        {
          "output_type": "stream",
          "name": "stdout",
          "text": [
            "1 - odd\n",
            "2 - even\n",
            "3 - odd\n",
            "4 - even\n",
            "5 - odd\n",
            "6 - even\n",
            "7 - odd\n",
            "8 - even\n",
            "9 - odd\n",
            "10 - even\n",
            "11 - odd\n",
            "12 - even\n",
            "13 - odd\n",
            "14 - even\n",
            "15 - odd\n"
          ]
        }
      ]
    },
    {
      "cell_type": "code",
      "source": [
        "fahrenheit_value= float(input(\"Enter temperature in fahrenheit= \"))\n",
        "celsius_value = (fahrenheit_value - 32) * 5/9\n",
        "print(\"Temperature in celsius= \",celsius_value)"
      ],
      "metadata": {
        "colab": {
          "base_uri": "https://localhost:8080/"
        },
        "id": "cbiDcEiGI8_A",
        "outputId": "afd1e039-2f70-4848-c90a-2b49f2784d0f"
      },
      "execution_count": 20,
      "outputs": [
        {
          "output_type": "stream",
          "name": "stdout",
          "text": [
            "Enter temperature in fahrenheit= 41\n",
            "Temperature in celsius=  5.0\n"
          ]
        }
      ]
    },
    {
      "cell_type": "code",
      "source": [
        "def factorial(n):\n",
        "    if n == 0:\n",
        "        return 1\n",
        "    else:\n",
        "        result = 1\n",
        "        for i in range(1, n + 1):\n",
        "            result *= i\n",
        "        return result"
      ],
      "metadata": {
        "id": "m3WumEaeJC64"
      },
      "execution_count": 21,
      "outputs": []
    },
    {
      "cell_type": "code",
      "source": [
        "print(factorial(3))"
      ],
      "metadata": {
        "colab": {
          "base_uri": "https://localhost:8080/"
        },
        "id": "6W11aYGvJLhN",
        "outputId": "f6864913-3abd-4f92-fbd0-2bd6068f8a7c"
      },
      "execution_count": 22,
      "outputs": [
        {
          "output_type": "stream",
          "name": "stdout",
          "text": [
            "6\n"
          ]
        }
      ]
    }
  ]
}