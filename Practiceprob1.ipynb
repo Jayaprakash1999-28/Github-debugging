{
  "cells": [
    {
      "cell_type": "markdown",
      "metadata": {
        "id": "view-in-github",
        "colab_type": "text"
      },
      "source": [
        "<a href=\"https://colab.research.google.com/github/Jayaprakash1999-28/Github-debugging/blob/main/Practiceprob1.ipynb\" target=\"_parent\"><img src=\"https://colab.research.google.com/assets/colab-badge.svg\" alt=\"Open In Colab\"/></a>"
      ]
    },
    {
      "cell_type": "code",
      "source": [
        "radius=float(input('Enter the radius of circle '))\n",
        "area=3.14*radius**2\n",
        "print(\"Area of Circle is \",area)\n"
      ],
      "metadata": {
        "id": "5PhFXb_ifc-F",
        "colab": {
          "base_uri": "https://localhost:8080/"
        },
        "outputId": "87c9638d-1a53-4317-ac5d-07ccf337e98e"
      },
      "execution_count": null,
      "outputs": [
        {
          "output_type": "stream",
          "name": "stdout",
          "text": [
            "Enter the radius of circle6\n",
            "Area of Circle is  113.04\n"
          ]
        }
      ]
    },
    {
      "cell_type": "code",
      "execution_count": null,
      "metadata": {
        "colab": {
          "base_uri": "https://localhost:8080/"
        },
        "id": "3VTWwVHtPxKE",
        "outputId": "5fcbaf67-de0b-43c0-d15c-d44fcf992bd5"
      },
      "outputs": [
        {
          "output_type": "stream",
          "name": "stdout",
          "text": [
            "Enter the name Anisha\n",
            "Enter the roll number 21\n",
            "Enter the mark 78\n",
            "Name: Anisha\n",
            "Roll No: 21\n",
            "Mark: 78\n"
          ]
        }
      ],
      "source": [
        "name=input(\"Enter the name \")\n",
        "roll_no=input(\"Enter the roll number \")\n",
        "mark=input(\"Enter the mark \")\n",
        "print ('Name:',name)\n",
        "print ('Roll No:',roll_no)\n",
        "print ('Mark:',mark)"
      ]
    },
    {
      "cell_type": "code",
      "source": [
        "n=int(input(\"Enter the number of elements in the list: \"))\n",
        "print(\"Enter\", n, \"numbers:\")\n",
        "\n",
        "num_list = []\n",
        "for _ in range(n):\n",
        "    num = float(input())\n",
        "    num_list.append(num)\n",
        "\n",
        "largest = num_list[0]\n",
        "for num in num_list:\n",
        "    if num > largest:\n",
        "        largest = num\n",
        "\n",
        "print(largest,\"is the largest number\")"
      ],
      "metadata": {
        "id": "QxVM3gyuihPD",
        "colab": {
          "base_uri": "https://localhost:8080/"
        },
        "outputId": "1abe3624-ce4e-46f8-8ba6-301fc1e4ea24"
      },
      "execution_count": null,
      "outputs": [
        {
          "output_type": "stream",
          "name": "stdout",
          "text": [
            "Enter the number of elements in the list: 4\n",
            "Enter 4 numbers:\n",
            "12\n",
            "3\n",
            "47\n",
            "10\n",
            "47.0 is the largest number\n"
          ]
        }
      ]
    },
    {
      "cell_type": "code",
      "source": [
        "previous_number = 0\n",
        "current_number = 1\n",
        "for _ in range(10):\n",
        "    sum_current_previous = current_number + previous_number\n",
        "    print(sum_current_previous)\n",
        "    previous_number = current_number\n",
        "    current_number += 1"
      ],
      "metadata": {
        "colab": {
          "base_uri": "https://localhost:8080/"
        },
        "id": "1L9sSmbsrn56",
        "outputId": "23884888-f17d-47a4-a79f-a7ae448a2755"
      },
      "execution_count": null,
      "outputs": [
        {
          "output_type": "stream",
          "name": "stdout",
          "text": [
            "1\n",
            "3\n",
            "5\n",
            "7\n",
            "9\n",
            "11\n",
            "13\n",
            "15\n",
            "17\n",
            "19\n"
          ]
        }
      ]
    },
    {
      "cell_type": "code",
      "source": [
        "\n",
        "n = int(input(\"Enter the number of elements: \"))\n",
        "num_list=[]\n",
        "print(\"Enter\", n, \"numbers:\")\n",
        "for _ in range(n):\n",
        "    num = int(input())\n",
        "    num_list.append(num)\n",
        "divisible_by_5=[]\n",
        "while len(num_list)>0:\n",
        "    l=num_list.pop(i)\n",
        "    if l%5==0:\n",
        "                 divisible_by_5.append(l)\n",
        "print(\"numbers divisible by 5 is :\",divisible_by_5)"
      ],
      "metadata": {
        "id": "dF_tZsKjwXsQ",
        "colab": {
          "base_uri": "https://localhost:8080/"
        },
        "outputId": "c11532b2-f205-4703-8c11-15feeb12b47b"
      },
      "execution_count": 5,
      "outputs": [
        {
          "output_type": "stream",
          "name": "stdout",
          "text": [
            "Enter the number of elements: 5\n",
            "Enter 5 numbers:\n",
            "10\n",
            "20\n",
            "33\n",
            "46\n",
            "55\n",
            "numbers divisible by 5 is : [55, 20, 10]\n"
          ]
        }
      ]
    },
    {
      "cell_type": "code",
      "source": [
        "n=int(input(\"Enter the number : \"))\n",
        "if n>1:\n",
        "  for i in range(2,n):\n",
        "    if n%i==0:\n",
        "      print(n,\"not a prime number\")\n",
        "      break\n",
        "    else:\n",
        "        print(n,\"is a prime number\")\n",
        "else:\n",
        "  print(n,\"is not a prime number\")\n"
      ],
      "metadata": {
        "colab": {
          "base_uri": "https://localhost:8080/"
        },
        "id": "yavn9pKp0DZ_",
        "outputId": "fcd54e31-1ac4-4ae2-8919-1eeaa15361bd"
      },
      "execution_count": 9,
      "outputs": [
        {
          "output_type": "stream",
          "name": "stdout",
          "text": [
            "Enter the number : 5\n",
            "5 is a prime number\n",
            "5 is a prime number\n",
            "5 is a prime number\n"
          ]
        }
      ]
    },
    {
      "cell_type": "code",
      "source": [
        "n = int(input(\"Enter the number of elements: \"))\n",
        "org_list=[]\n",
        "print(\"Enter\", n, \"numbers:\")\n",
        "for _ in range(n):\n",
        "    num = int(input())\n",
        "    num_list.append(num)\n",
        "rev_list=[]\n",
        "for i in range(len(org_list)-1, -1, -1):\n",
        "    rev_list.append(org_list[i])\n",
        "print(\"Reversed list:\", rev_list)"
      ],
      "metadata": {
        "colab": {
          "base_uri": "https://localhost:8080/"
        },
        "id": "USL39NCA171u",
        "outputId": "2ae92ae0-baec-4a80-f1be-03284fec59ef"
      },
      "execution_count": 12,
      "outputs": [
        {
          "output_type": "stream",
          "name": "stdout",
          "text": [
            "Enter the number of elements: 4\n",
            "Enter 4 numbers:\n",
            "10\n",
            "20\n",
            "30\n",
            "40\n",
            "Reversed list: []\n"
          ]
        }
      ]
    },
    {
      "cell_type": "code",
      "source": [
        "n = 4\n",
        "for i in range(1, n + 1):\n",
        "    print('*' * i)"
      ],
      "metadata": {
        "id": "6YWbLrOtnB-y",
        "colab": {
          "base_uri": "https://localhost:8080/"
        },
        "outputId": "90a3185d-7a2d-4607-b49f-bf82491b14d7"
      },
      "execution_count": 13,
      "outputs": [
        {
          "output_type": "stream",
          "name": "stdout",
          "text": [
            "*\n",
            "**\n",
            "***\n",
            "****\n"
          ]
        }
      ]
    },
    {
      "cell_type": "code",
      "source": [
        "num_1 = float(input(\"Enter first number: \"))\n",
        "num_2 = float(input(\"Enter second number: \"))\n",
        "num_3 = float(input(\"Enter third number: \"))\n",
        "\n",
        "max_num = num_1\n",
        "if num_2 > max_num:\n",
        "    max_num = num_2\n",
        "if num_3 > max_num:\n",
        "    max_num = num_3\n",
        "\n",
        "print(\"The maximum of the three numbers is:\", max_num)"
      ],
      "metadata": {
        "id": "Hh9ON4tunjwp",
        "colab": {
          "base_uri": "https://localhost:8080/"
        },
        "outputId": "26a4ceeb-9cec-4b07-b5c9-edb077290987"
      },
      "execution_count": 15,
      "outputs": [
        {
          "output_type": "stream",
          "name": "stdout",
          "text": [
            "Enter first number: 4\n",
            "Enter second number: 5\n",
            "Enter third number: 6\n",
            "The maximum of the three numbers is: 6.0\n"
          ]
        }
      ]
    },
    {
      "cell_type": "code",
      "source": [
        "n = 5\n",
        "for i in range(n):\n",
        "    print('*' * (i + 1))\n",
        "for j in range(n - 1):\n",
        "    print('*' * (n - i - 1))"
      ],
      "metadata": {
        "id": "QH_AOrX9oBVV",
        "colab": {
          "base_uri": "https://localhost:8080/"
        },
        "outputId": "423d6903-ef75-4fe6-9b92-6e62ee16b766"
      },
      "execution_count": 17,
      "outputs": [
        {
          "output_type": "stream",
          "name": "stdout",
          "text": [
            "*\n",
            "**\n",
            "***\n",
            "****\n",
            "*****\n",
            "\n",
            "\n",
            "\n",
            "\n"
          ]
        }
      ]
    }
  ],
  "metadata": {
    "colab": {
      "provenance": [],
      "authorship_tag": "ABX9TyOQJCD6DXwWUPGfxQn1t2yP",
      "include_colab_link": true
    },
    "kernelspec": {
      "display_name": "Python 3",
      "name": "python3"
    },
    "language_info": {
      "name": "python"
    }
  },
  "nbformat": 4,
  "nbformat_minor": 0
}